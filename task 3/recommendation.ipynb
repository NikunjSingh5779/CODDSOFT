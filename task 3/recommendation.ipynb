{
 "cells": [
  {
   "cell_type": "code",
   "execution_count": 2,
   "id": "9a0415b3",
   "metadata": {},
   "outputs": [
    {
     "name": "stdout",
     "output_type": "stream",
     "text": [
      "Requirement already satisfied: pandas in c:\\users\\asus\\appdata\\local\\programs\\python\\python313\\lib\\site-packages (2.3.1)\n",
      "Requirement already satisfied: scikit-learn in c:\\users\\asus\\appdata\\local\\programs\\python\\python313\\lib\\site-packages (1.7.1)\n",
      "Requirement already satisfied: numpy>=1.26.0 in c:\\users\\asus\\appdata\\local\\programs\\python\\python313\\lib\\site-packages (from pandas) (2.3.2)\n",
      "Requirement already satisfied: python-dateutil>=2.8.2 in c:\\users\\asus\\appdata\\local\\programs\\python\\python313\\lib\\site-packages (from pandas) (2.9.0.post0)\n",
      "Requirement already satisfied: pytz>=2020.1 in c:\\users\\asus\\appdata\\local\\programs\\python\\python313\\lib\\site-packages (from pandas) (2025.2)\n",
      "Requirement already satisfied: tzdata>=2022.7 in c:\\users\\asus\\appdata\\local\\programs\\python\\python313\\lib\\site-packages (from pandas) (2025.2)\n",
      "Requirement already satisfied: scipy>=1.8.0 in c:\\users\\asus\\appdata\\local\\programs\\python\\python313\\lib\\site-packages (from scikit-learn) (1.16.1)\n",
      "Requirement already satisfied: joblib>=1.2.0 in c:\\users\\asus\\appdata\\local\\programs\\python\\python313\\lib\\site-packages (from scikit-learn) (1.5.1)\n",
      "Requirement already satisfied: threadpoolctl>=3.1.0 in c:\\users\\asus\\appdata\\local\\programs\\python\\python313\\lib\\site-packages (from scikit-learn) (3.6.0)\n",
      "Requirement already satisfied: six>=1.5 in c:\\users\\asus\\appdata\\local\\programs\\python\\python313\\lib\\site-packages (from python-dateutil>=2.8.2->pandas) (1.17.0)\n",
      "Note: you may need to restart the kernel to use updated packages.\n"
     ]
    },
    {
     "name": "stderr",
     "output_type": "stream",
     "text": [
      "\n",
      "[notice] A new release of pip is available: 25.1.1 -> 25.2\n",
      "[notice] To update, run: python.exe -m pip install --upgrade pip\n"
     ]
    }
   ],
   "source": [
    "pip install pandas scikit-learn"
   ]
  },
  {
   "cell_type": "code",
   "execution_count": null,
   "id": "c4ce221e",
   "metadata": {},
   "outputs": [
    {
     "ename": "ModuleNotFoundError",
     "evalue": "No module named 'ipywidgets'",
     "output_type": "error",
     "traceback": [
      "\u001b[31m---------------------------------------------------------------------------\u001b[39m",
      "\u001b[31mModuleNotFoundError\u001b[39m                       Traceback (most recent call last)",
      "\u001b[36mCell\u001b[39m\u001b[36m \u001b[39m\u001b[32mIn[11]\u001b[39m\u001b[32m, line 4\u001b[39m\n\u001b[32m      2\u001b[39m \u001b[38;5;28;01mfrom\u001b[39;00m\u001b[38;5;250m \u001b[39m\u001b[34;01msklearn\u001b[39;00m\u001b[34;01m.\u001b[39;00m\u001b[34;01mfeature_extraction\u001b[39;00m\u001b[34;01m.\u001b[39;00m\u001b[34;01mtext\u001b[39;00m\u001b[38;5;250m \u001b[39m\u001b[38;5;28;01mimport\u001b[39;00m TfidfVectorizer\n\u001b[32m      3\u001b[39m \u001b[38;5;28;01mfrom\u001b[39;00m\u001b[38;5;250m \u001b[39m\u001b[34;01msklearn\u001b[39;00m\u001b[34;01m.\u001b[39;00m\u001b[34;01mmetrics\u001b[39;00m\u001b[34;01m.\u001b[39;00m\u001b[34;01mpairwise\u001b[39;00m\u001b[38;5;250m \u001b[39m\u001b[38;5;28;01mimport\u001b[39;00m cosine_similarity\n\u001b[32m----> \u001b[39m\u001b[32m4\u001b[39m \u001b[38;5;28;01mimport\u001b[39;00m\u001b[38;5;250m \u001b[39m\u001b[34;01mipywidgets\u001b[39;00m\u001b[38;5;250m \u001b[39m\u001b[38;5;28;01mas\u001b[39;00m\u001b[38;5;250m \u001b[39m\u001b[34;01mwidgets\u001b[39;00m\n\u001b[32m      5\u001b[39m \u001b[38;5;28;01mfrom\u001b[39;00m\u001b[38;5;250m \u001b[39m\u001b[34;01mIPython\u001b[39;00m\u001b[34;01m.\u001b[39;00m\u001b[34;01mdisplay\u001b[39;00m\u001b[38;5;250m \u001b[39m\u001b[38;5;28;01mimport\u001b[39;00m display\n\u001b[32m      7\u001b[39m \u001b[38;5;66;03m# --- Step 1: Create sample movies.csv ---\u001b[39;00m\n",
      "\u001b[31mModuleNotFoundError\u001b[39m: No module named 'ipywidgets'"
     ]
    }
   ],
   "source": [
    "import pandas as pd\n",
    "from sklearn.feature_extraction.text import TfidfVectorizer\n",
    "from sklearn.metrics.pairwise import cosine_similarity\n",
    "import ipywidgets as widgets\n",
    "from IPython.display import display\n",
    "movies_data = {\n",
    "    \"title\": [\n",
    "        \"Inception\", \"The Dark Knight\", \"Interstellar\", \"Titanic\", \"Avatar\",\n",
    "        \"The Matrix\", \"Gladiator\", \"The Avengers\", \"Frozen\", \"The Lion King\",\n",
    "        \"Jurassic Park\", \"Shutter Island\", \"The Godfather\", \"Pulp Fiction\", \"Fight Club\"\n",
    "    ],\n",
    "    \"description\": [\n",
    "        \"A thief who enters dreams to steal secrets gets a chance to erase his criminal record.\",\n",
    "        \"Batman faces the Joker, a criminal mastermind who wants to plunge Gotham into chaos.\",\n",
    "        \"A team travels through a wormhole in space to ensure humanity's survival.\",\n",
    "        \"A romance blossoms aboard the ill-fated RMS Titanic.\",\n",
    "        \"A paraplegic marine dispatched to the moon Pandora becomes torn between following orders and protecting the world.\",\n",
    "        \"A hacker discovers the world is a simulated reality and joins a rebellion.\",\n",
    "        \"A Roman general seeks revenge after being betrayed and forced into slavery.\",\n",
    "        \"Earth's mightiest heroes team up to stop an alien invasion led by Loki.\",\n",
    "        \"Two sisters face a magical journey as one struggles to control her ice powers.\",\n",
    "        \"A lion cub flees his kingdom after the death of his father but returns to reclaim it.\",\n",
    "        \"Dinosaurs are brought back to life in a theme park, but things go wrong.\",\n",
    "        \"A U.S. Marshal investigates a psychiatric facility and uncovers shocking secrets.\",\n",
    "        \"The aging patriarch of an organized crime dynasty transfers control to his reluctant son.\",\n",
    "        \"The lives of two hitmen, a gangster's wife, and others intertwine in violent and unexpected ways.\",\n",
    "        \"An office worker forms an underground fight club as an outlet for frustration.\"\n",
    "    ]\n",
    "}\n",
    "df = pd.DataFrame(movies_data)\n",
    "df.to_csv(\"movies.csv\", index=False)\n",
    "print(\"Sample 'movies.csv' created ✅\")\n",
    "vectorizer = TfidfVectorizer(stop_words='english')\n",
    "tfidf_matrix = vectorizer.fit_transform(df['description'])\n",
    "def get_recommendations(movie_title, top_n=5):\n",
    "    matches = df[df['title'].str.lower() == movie_title.lower()]\n",
    "    if matches.empty:\n",
    "        return f\"❌ '{movie_title}' not found in the dataset.\"\n",
    "    idx = matches.index[0]\n",
    "    cosine_sim = cosine_similarity(tfidf_matrix[idx], tfidf_matrix).flatten()\n",
    "    sim_indices = cosine_sim.argsort()[::-1][1:top_n+1]\n",
    "    recs = df.iloc[sim_indices]['title'].tolist()\n",
    "    return recs\n",
    "def search_movie(change):\n",
    "    movie_input = change['new']\n",
    "    if movie_input.strip() == \"\":\n",
    "        output.clear_output()\n",
    "        return\n",
    "    recommendations = get_recommendations(movie_input, top_n=5)\n",
    "    output.clear_output()\n",
    "    with output:\n",
    "        if isinstance(recommendations, str):\n",
    "            print(recommendations)\n",
    "        else:\n",
    "            print(f\"🎬 Recommendations for '{movie_input}':\")\n",
    "            for i, movie in enumerate(recommendations, 1):\n",
    "                print(f\"{i}. {movie}\")\n",
    "movie_box = widgets.Text(\n",
    "    value='',\n",
    "    placeholder='Type a movie name...',\n",
    "    description='Movie:',\n",
    "    disabled=False\n",
    ")\n",
    "output = widgets.Output()\n",
    "movie_box.observe(search_movie, names='value')\n",
    "display(movie_box, output)"
   ]
  }
 ],
 "metadata": {
  "kernelspec": {
   "display_name": "Python 3",
   "language": "python",
   "name": "python3"
  },
  "language_info": {
   "codemirror_mode": {
    "name": "ipython",
    "version": 3
   },
   "file_extension": ".py",
   "mimetype": "text/x-python",
   "name": "python",
   "nbconvert_exporter": "python",
   "pygments_lexer": "ipython3",
   "version": "3.13.5"
  }
 },
 "nbformat": 4,
 "nbformat_minor": 5
}
